{
 "cells": [
  {
   "cell_type": "markdown",
   "id": "2832ec15-c3f6-4b1a-96aa-62dea0157a89",
   "metadata": {},
   "source": [
    "# Scraping immobilier\n",
    "\n",
    "Dans cette section, je mets en place un scraping pour identifier des surfaces de bureau disponibles.\n",
    "\n",
    "Pour référence : https://github.com/snehaashrihari/Web-Scraping-using-BeautifulSoup/\n",
    "\n",
    "## Sites web disponibles\n",
    "\n",
    "* Se Loger : https://www.seloger.com/immobilier/locations/immo-montrouge-92/bien-bureaux/\n",
    "    qui est protégé par un puzzle et agrège en fait plusieurs sources à savoir :\n",
    "* JLL : https://immobilier.jll.fr/search?tenureType=rent&propertyType=office&city=MONTROUGE&postcode=92120&page=1\n",
    "* CBRE\n",
    "* Evolis\n",
    "* BNP Parisbas Real Estate : https://www.bnppre.fr/a-louer/bureau/hauts-de-seine-92/montrouge-92120/\n",
    "    * attention ! Sur cette pagen il n'y pas que des adresses à Montrouge !\n",
    "* Axeaven\n",
    "* Jean Louis Thouard Immobilier (?!?)\n",
    "\n",
    "alternative : "
   ]
  },
  {
   "cell_type": "code",
   "execution_count": 1,
   "id": "4045b431-3bc7-4f09-8bbb-57e5437b62a0",
   "metadata": {},
   "outputs": [],
   "source": [
    "%load_ext autoreload\n",
    "%autoreload 2"
   ]
  },
  {
   "cell_type": "code",
   "execution_count": 2,
   "id": "9553deba-fe3f-4923-bf97-90353a0d4a40",
   "metadata": {},
   "outputs": [],
   "source": [
    "# import sys\n",
    "# !{sys.executable} -m pip install sqlalchemy"
   ]
  },
  {
   "cell_type": "code",
   "execution_count": 3,
   "id": "ff8fedfb-4c80-4f31-a26c-cf295721508c",
   "metadata": {},
   "outputs": [],
   "source": [
    "# import sys\n",
    "# !{sys.executable} -m pip install psycopg2-binary"
   ]
  },
  {
   "cell_type": "code",
   "execution_count": 4,
   "id": "e6f80c12-414b-4185-be65-b464f10d5829",
   "metadata": {},
   "outputs": [],
   "source": [
    "#import sys\n",
    "#!{sys.executable} -m pip install chart_studio"
   ]
  },
  {
   "cell_type": "markdown",
   "id": "5eb2a50c-d6aa-485a-aab9-67193d55baa0",
   "metadata": {},
   "source": [
    "## Scraping - récupération des données"
   ]
  },
  {
   "cell_type": "code",
   "execution_count": 5,
   "id": "e76e3ce8-ce35-45f5-ade1-52a7e6dd81a0",
   "metadata": {},
   "outputs": [
    {
     "ename": "WebDriverException",
     "evalue": "Message: Process unexpectedly closed with status 0\n",
     "output_type": "error",
     "traceback": [
      "\u001b[1;31m---------------------------------------------------------------------------\u001b[0m",
      "\u001b[1;31mWebDriverException\u001b[0m                        Traceback (most recent call last)",
      "Cell \u001b[1;32mIn[5], line 3\u001b[0m\n\u001b[0;32m      1\u001b[0m \u001b[38;5;28;01mfrom\u001b[39;00m \u001b[38;5;21;01mexplo_scraping\u001b[39;00m \u001b[38;5;28;01mimport\u001b[39;00m scrape_save\n\u001b[1;32m----> 3\u001b[0m \u001b[43mscrape_save\u001b[49m\u001b[43m(\u001b[49m\u001b[43m)\u001b[49m\n",
      "File \u001b[1;32mD:\\Ecologie - EELV\\notebook\\explo_scraping.py:49\u001b[0m, in \u001b[0;36mscrape_save\u001b[1;34m()\u001b[0m\n\u001b[0;32m     46\u001b[0m df \u001b[38;5;241m=\u001b[39m pd\u001b[38;5;241m.\u001b[39mDataFrame()\n\u001b[0;32m     48\u001b[0m \u001b[38;5;28;01mfor\u001b[39;00m source_str, parser \u001b[38;5;129;01min\u001b[39;00m parser_dict\u001b[38;5;241m.\u001b[39mitems():\n\u001b[1;32m---> 49\u001b[0m     nbr_items, list_items \u001b[38;5;241m=\u001b[39m \u001b[43mparser\u001b[49m\u001b[43m(\u001b[49m\u001b[43m)\u001b[49m\n\u001b[0;32m     51\u001b[0m     \u001b[38;5;28;01mif\u001b[39;00m nbr_items \u001b[38;5;241m!=\u001b[39m \u001b[38;5;28mlen\u001b[39m(list_items):\n\u001b[0;32m     52\u001b[0m         \u001b[38;5;28mprint\u001b[39m(\u001b[38;5;124mf\u001b[39m\u001b[38;5;124m\"\u001b[39m\u001b[38;5;124mSomething wrong for \u001b[39m\u001b[38;5;132;01m{\u001b[39;00msource_str\u001b[38;5;132;01m}\u001b[39;00m\u001b[38;5;124m! (multiple pages?)\u001b[39m\u001b[38;5;124m\"\u001b[39m)\n",
      "File \u001b[1;32mD:\\Ecologie - EELV\\notebook\\jll_parser.py:126\u001b[0m, in \u001b[0;36mfull_parser\u001b[1;34m()\u001b[0m\n\u001b[0;32m    122\u001b[0m \u001b[38;5;28;01mdef\u001b[39;00m \u001b[38;5;21mfull_parser\u001b[39m() \u001b[38;5;241m-\u001b[39m\u001b[38;5;241m>\u001b[39m Tuple[\u001b[38;5;28mint\u001b[39m, List[Optional[RentalItem]]]:\n\u001b[0;32m    123\u001b[0m \u001b[38;5;250m    \u001b[39m\u001b[38;5;124;03m\"\"\"\u001b[39;00m\n\u001b[0;32m    124\u001b[0m \u001b[38;5;124;03m    Full processing of JLL page\u001b[39;00m\n\u001b[0;32m    125\u001b[0m \u001b[38;5;124;03m    \"\"\"\u001b[39;00m\n\u001b[1;32m--> 126\u001b[0m     \u001b[38;5;28;01mreturn\u001b[39;00m parser(\u001b[43mget_page_content\u001b[49m\u001b[43m(\u001b[49m\u001b[43m)\u001b[49m)\n",
      "File \u001b[1;32mD:\\Ecologie - EELV\\notebook\\jll_parser.py:105\u001b[0m, in \u001b[0;36mget_page_content\u001b[1;34m(url)\u001b[0m\n\u001b[0;32m    102\u001b[0m options \u001b[38;5;241m=\u001b[39m Options()\n\u001b[0;32m    103\u001b[0m options\u001b[38;5;241m.\u001b[39madd_argument(\u001b[38;5;124m\"\u001b[39m\u001b[38;5;124m--headless\u001b[39m\u001b[38;5;124m\"\u001b[39m)\n\u001b[1;32m--> 105\u001b[0m driver \u001b[38;5;241m=\u001b[39m \u001b[43mwebdriver\u001b[49m\u001b[38;5;241;43m.\u001b[39;49m\u001b[43mFirefox\u001b[49m\u001b[43m(\u001b[49m\u001b[43moptions\u001b[49m\u001b[38;5;241;43m=\u001b[39;49m\u001b[43moptions\u001b[49m\u001b[43m)\u001b[49m\n\u001b[0;32m    106\u001b[0m driver\u001b[38;5;241m.\u001b[39mget(url)\n\u001b[0;32m    107\u001b[0m \u001b[38;5;28;01mreturn\u001b[39;00m BeautifulSoup(driver\u001b[38;5;241m.\u001b[39mpage_source, \u001b[38;5;124m'\u001b[39m\u001b[38;5;124mhtml.parser\u001b[39m\u001b[38;5;124m'\u001b[39m)\n",
      "File \u001b[1;32m~\\anaconda3\\lib\\site-packages\\selenium\\webdriver\\firefox\\webdriver.py:67\u001b[0m, in \u001b[0;36mWebDriver.__init__\u001b[1;34m(self, options, service, keep_alive)\u001b[0m\n\u001b[0;32m     60\u001b[0m \u001b[38;5;28mself\u001b[39m\u001b[38;5;241m.\u001b[39mservice\u001b[38;5;241m.\u001b[39mstart()\n\u001b[0;32m     62\u001b[0m executor \u001b[38;5;241m=\u001b[39m FirefoxRemoteConnection(\n\u001b[0;32m     63\u001b[0m     remote_server_addr\u001b[38;5;241m=\u001b[39m\u001b[38;5;28mself\u001b[39m\u001b[38;5;241m.\u001b[39mservice\u001b[38;5;241m.\u001b[39mservice_url,\n\u001b[0;32m     64\u001b[0m     ignore_proxy\u001b[38;5;241m=\u001b[39moptions\u001b[38;5;241m.\u001b[39m_ignore_local_proxy,\n\u001b[0;32m     65\u001b[0m     keep_alive\u001b[38;5;241m=\u001b[39mkeep_alive,\n\u001b[0;32m     66\u001b[0m )\n\u001b[1;32m---> 67\u001b[0m \u001b[38;5;28;43msuper\u001b[39;49m\u001b[43m(\u001b[49m\u001b[43m)\u001b[49m\u001b[38;5;241;43m.\u001b[39;49m\u001b[38;5;21;43m__init__\u001b[39;49m\u001b[43m(\u001b[49m\u001b[43mcommand_executor\u001b[49m\u001b[38;5;241;43m=\u001b[39;49m\u001b[43mexecutor\u001b[49m\u001b[43m,\u001b[49m\u001b[43m \u001b[49m\u001b[43moptions\u001b[49m\u001b[38;5;241;43m=\u001b[39;49m\u001b[43moptions\u001b[49m\u001b[43m)\u001b[49m\n\u001b[0;32m     69\u001b[0m \u001b[38;5;28mself\u001b[39m\u001b[38;5;241m.\u001b[39m_is_remote \u001b[38;5;241m=\u001b[39m \u001b[38;5;28;01mFalse\u001b[39;00m\n",
      "File \u001b[1;32m~\\anaconda3\\lib\\site-packages\\selenium\\webdriver\\remote\\webdriver.py:208\u001b[0m, in \u001b[0;36mWebDriver.__init__\u001b[1;34m(self, command_executor, keep_alive, file_detector, options)\u001b[0m\n\u001b[0;32m    206\u001b[0m \u001b[38;5;28mself\u001b[39m\u001b[38;5;241m.\u001b[39m_authenticator_id \u001b[38;5;241m=\u001b[39m \u001b[38;5;28;01mNone\u001b[39;00m\n\u001b[0;32m    207\u001b[0m \u001b[38;5;28mself\u001b[39m\u001b[38;5;241m.\u001b[39mstart_client()\n\u001b[1;32m--> 208\u001b[0m \u001b[38;5;28;43mself\u001b[39;49m\u001b[38;5;241;43m.\u001b[39;49m\u001b[43mstart_session\u001b[49m\u001b[43m(\u001b[49m\u001b[43mcapabilities\u001b[49m\u001b[43m)\u001b[49m\n",
      "File \u001b[1;32m~\\anaconda3\\lib\\site-packages\\selenium\\webdriver\\remote\\webdriver.py:292\u001b[0m, in \u001b[0;36mWebDriver.start_session\u001b[1;34m(self, capabilities)\u001b[0m\n\u001b[0;32m    285\u001b[0m \u001b[38;5;250m\u001b[39m\u001b[38;5;124;03m\"\"\"Creates a new session with the desired capabilities.\u001b[39;00m\n\u001b[0;32m    286\u001b[0m \n\u001b[0;32m    287\u001b[0m \u001b[38;5;124;03m:Args:\u001b[39;00m\n\u001b[0;32m    288\u001b[0m \u001b[38;5;124;03m - capabilities - a capabilities dict to start the session with.\u001b[39;00m\n\u001b[0;32m    289\u001b[0m \u001b[38;5;124;03m\"\"\"\u001b[39;00m\n\u001b[0;32m    291\u001b[0m caps \u001b[38;5;241m=\u001b[39m _create_caps(capabilities)\n\u001b[1;32m--> 292\u001b[0m response \u001b[38;5;241m=\u001b[39m \u001b[38;5;28;43mself\u001b[39;49m\u001b[38;5;241;43m.\u001b[39;49m\u001b[43mexecute\u001b[49m\u001b[43m(\u001b[49m\u001b[43mCommand\u001b[49m\u001b[38;5;241;43m.\u001b[39;49m\u001b[43mNEW_SESSION\u001b[49m\u001b[43m,\u001b[49m\u001b[43m \u001b[49m\u001b[43mcaps\u001b[49m\u001b[43m)\u001b[49m[\u001b[38;5;124m\"\u001b[39m\u001b[38;5;124mvalue\u001b[39m\u001b[38;5;124m\"\u001b[39m]\n\u001b[0;32m    293\u001b[0m \u001b[38;5;28mself\u001b[39m\u001b[38;5;241m.\u001b[39msession_id \u001b[38;5;241m=\u001b[39m response\u001b[38;5;241m.\u001b[39mget(\u001b[38;5;124m\"\u001b[39m\u001b[38;5;124msessionId\u001b[39m\u001b[38;5;124m\"\u001b[39m)\n\u001b[0;32m    294\u001b[0m \u001b[38;5;28mself\u001b[39m\u001b[38;5;241m.\u001b[39mcaps \u001b[38;5;241m=\u001b[39m response\u001b[38;5;241m.\u001b[39mget(\u001b[38;5;124m\"\u001b[39m\u001b[38;5;124mcapabilities\u001b[39m\u001b[38;5;124m\"\u001b[39m)\n",
      "File \u001b[1;32m~\\anaconda3\\lib\\site-packages\\selenium\\webdriver\\remote\\webdriver.py:347\u001b[0m, in \u001b[0;36mWebDriver.execute\u001b[1;34m(self, driver_command, params)\u001b[0m\n\u001b[0;32m    345\u001b[0m response \u001b[38;5;241m=\u001b[39m \u001b[38;5;28mself\u001b[39m\u001b[38;5;241m.\u001b[39mcommand_executor\u001b[38;5;241m.\u001b[39mexecute(driver_command, params)\n\u001b[0;32m    346\u001b[0m \u001b[38;5;28;01mif\u001b[39;00m response:\n\u001b[1;32m--> 347\u001b[0m     \u001b[38;5;28;43mself\u001b[39;49m\u001b[38;5;241;43m.\u001b[39;49m\u001b[43merror_handler\u001b[49m\u001b[38;5;241;43m.\u001b[39;49m\u001b[43mcheck_response\u001b[49m\u001b[43m(\u001b[49m\u001b[43mresponse\u001b[49m\u001b[43m)\u001b[49m\n\u001b[0;32m    348\u001b[0m     response[\u001b[38;5;124m\"\u001b[39m\u001b[38;5;124mvalue\u001b[39m\u001b[38;5;124m\"\u001b[39m] \u001b[38;5;241m=\u001b[39m \u001b[38;5;28mself\u001b[39m\u001b[38;5;241m.\u001b[39m_unwrap_value(response\u001b[38;5;241m.\u001b[39mget(\u001b[38;5;124m\"\u001b[39m\u001b[38;5;124mvalue\u001b[39m\u001b[38;5;124m\"\u001b[39m, \u001b[38;5;28;01mNone\u001b[39;00m))\n\u001b[0;32m    349\u001b[0m     \u001b[38;5;28;01mreturn\u001b[39;00m response\n",
      "File \u001b[1;32m~\\anaconda3\\lib\\site-packages\\selenium\\webdriver\\remote\\errorhandler.py:229\u001b[0m, in \u001b[0;36mErrorHandler.check_response\u001b[1;34m(self, response)\u001b[0m\n\u001b[0;32m    227\u001b[0m         alert_text \u001b[38;5;241m=\u001b[39m value[\u001b[38;5;124m\"\u001b[39m\u001b[38;5;124malert\u001b[39m\u001b[38;5;124m\"\u001b[39m]\u001b[38;5;241m.\u001b[39mget(\u001b[38;5;124m\"\u001b[39m\u001b[38;5;124mtext\u001b[39m\u001b[38;5;124m\"\u001b[39m)\n\u001b[0;32m    228\u001b[0m     \u001b[38;5;28;01mraise\u001b[39;00m exception_class(message, screen, stacktrace, alert_text)  \u001b[38;5;66;03m# type: ignore[call-arg]  # mypy is not smart enough here\u001b[39;00m\n\u001b[1;32m--> 229\u001b[0m \u001b[38;5;28;01mraise\u001b[39;00m exception_class(message, screen, stacktrace)\n",
      "\u001b[1;31mWebDriverException\u001b[0m: Message: Process unexpectedly closed with status 0\n"
     ]
    }
   ],
   "source": [
    "from explo_scraping import scrape_save\n",
    "\n",
    "scrape_save()"
   ]
  },
  {
   "cell_type": "markdown",
   "id": "be5b8108-b77e-4954-86bf-a02bc3ae1c37",
   "metadata": {},
   "source": [
    "## Exploration des résultats"
   ]
  },
  {
   "cell_type": "code",
   "execution_count": null,
   "id": "1d25bbaf-cdd0-4cda-a43f-bd229d5c007c",
   "metadata": {},
   "outputs": [],
   "source": [
    "from explo_scraping import load_data\n",
    "\n",
    "df = load_data()"
   ]
  },
  {
   "cell_type": "markdown",
   "id": "d9c7c014-8b1e-4bd1-ae8f-e1a02a911bc1",
   "metadata": {},
   "source": [
    "### Graphe - surface"
   ]
  },
  {
   "cell_type": "code",
   "execution_count": null,
   "id": "be550a22-fbf6-41c3-9283-de582b0172c0",
   "metadata": {},
   "outputs": [],
   "source": [
    "import matplotlib.pyplot as plt\n",
    "import datetime as dt\n",
    "\n",
    "today = dt.date.today()"
   ]
  },
  {
   "cell_type": "code",
   "execution_count": null,
   "id": "be9d3125-6d73-4078-bd0f-a31043f14f76",
   "metadata": {},
   "outputs": [],
   "source": [
    "mask = df[\"date\"] > dt.date(year=2023, month=11, day=1)\n",
    "\n",
    "aux = df[mask].groupby(['source', 'date'])[[\"surface_m2\"]].sum().unstack(level=\"source\")\n",
    "ax = aux.plot.bar()\n",
    "ax.legend(loc='lower left')\n",
    "ax.set_ylabel(\"Surface disponible [m2]\")\n",
    "\n",
    "plt.savefig(f\"surface_dispo_{today}\", bbox_inches=\"tight\")"
   ]
  },
  {
   "cell_type": "code",
   "execution_count": null,
   "id": "7197877d-efe4-4a22-86b9-07394d513721",
   "metadata": {},
   "outputs": [],
   "source": [
    "aux"
   ]
  },
  {
   "cell_type": "markdown",
   "id": "f3323524-f8b7-46b0-883f-2fc4d3df8c52",
   "metadata": {},
   "source": [
    "### Graphe - nombre d'offres"
   ]
  },
  {
   "cell_type": "code",
   "execution_count": null,
   "id": "55a56f99-f581-429a-96c5-343d7c3cc854",
   "metadata": {},
   "outputs": [],
   "source": [
    "aux2 = df.groupby(['source', 'date'])[[\"surface_m2\"]].count().unstack(level=\"source\")\n",
    "ax2 = aux2.plot.bar()\n",
    "\n",
    "ax2.legend(loc='lower left')\n",
    "ax2.set_ylabel(\"Nombre d'offres disponibles\")\n",
    "\n",
    "plt.savefig(f\"offres_dispo_{today}\", bbox_inches=\"tight\")"
   ]
  },
  {
   "cell_type": "code",
   "execution_count": null,
   "id": "f389c3b8-cc08-474d-8f20-b77b2618ba66",
   "metadata": {},
   "outputs": [],
   "source": [
    "aux2"
   ]
  },
  {
   "cell_type": "markdown",
   "id": "b57c36f4-f435-4737-95e8-08304a1776eb",
   "metadata": {},
   "source": [
    "### Calcul et évolution du prix moyen"
   ]
  },
  {
   "cell_type": "code",
   "execution_count": null,
   "id": "cd6ed3f9-e3bb-463e-8be7-41ab5aa8462d",
   "metadata": {},
   "outputs": [],
   "source": [
    "df[\"total_price\"] = df[\"surface_m2\"] * df[\"price_eur_per_year_per_m2\"]\n",
    "total_value_series = df[[\"total_price\", \"source\", \"date\"]].groupby(['source', 'date'])[[\"total_price\"]].sum()\n",
    "total_surface_series = df[[\"surface_m2\", \"source\", \"date\"]].groupby(['source', 'date'])[[\"surface_m2\"]].sum()\n",
    "aux_series = total_value_series[\"total_price\"].divide(total_surface_series[\"surface_m2\"])\n",
    "\n",
    "aux_series.unstack(level=\"source\").plot.bar()"
   ]
  },
  {
   "cell_type": "code",
   "execution_count": null,
   "id": "2fedd17b-841b-4b71-857f-9079c758d817",
   "metadata": {},
   "outputs": [],
   "source": [
    "aux_series.unstack(level=\"source\")"
   ]
  },
  {
   "cell_type": "code",
   "execution_count": null,
   "id": "32bf7992-44c5-4085-90f0-4050b31fa29a",
   "metadata": {},
   "outputs": [],
   "source": [
    "dict()[0]"
   ]
  },
  {
   "cell_type": "markdown",
   "id": "64b78359-d82b-4d80-b367-8068a5d43d35",
   "metadata": {},
   "source": [
    "## Autres explorations"
   ]
  },
  {
   "cell_type": "markdown",
   "id": "79841477-8283-4048-99f8-b7ac41f8ef53",
   "metadata": {},
   "source": [
    "### Date spécifique"
   ]
  },
  {
   "cell_type": "code",
   "execution_count": null,
   "id": "87d1bd30-7085-4cdd-8835-53e59e062f60",
   "metadata": {},
   "outputs": [],
   "source": [
    "import datetime as dt\n",
    "\n",
    "date = dt.date(2023, 11, 3)"
   ]
  },
  {
   "cell_type": "code",
   "execution_count": null,
   "id": "c9bd413b-967e-4278-8902-11410efc1e49",
   "metadata": {},
   "outputs": [],
   "source": [
    "df[df[\"date\"]==date]"
   ]
  },
  {
   "cell_type": "markdown",
   "id": "f408d524-b965-4b4d-b026-af19a74f8fc5",
   "metadata": {},
   "source": [
    "### Donnée générale"
   ]
  },
  {
   "cell_type": "code",
   "execution_count": null,
   "id": "62993548-2e2f-488b-89e9-898add4e0bb8",
   "metadata": {},
   "outputs": [],
   "source": [
    "df"
   ]
  },
  {
   "cell_type": "code",
   "execution_count": null,
   "id": "a96e3ce6-7c8b-44d7-a68c-7bae75dd8b01",
   "metadata": {},
   "outputs": [],
   "source": []
  },
  {
   "cell_type": "markdown",
   "id": "32cc1bda-afc8-4a9d-a2f0-5281675c170a",
   "metadata": {},
   "source": [
    "## Perspectives\n",
    "\n",
    "### Indicateur consolidé\n",
    "\n",
    "Si on recueille des données de plusieurs sources, il va falloir les consolider/dédupliquer...\n",
    "\n",
    "Est-ce que adresse + surface serait un bon point de départ ? (+ prix, qui sera sans doute le même dans les différentes agences).\n",
    "\n",
    "Note : sur la base de ce critère, il y a déjà des duplications entre JLL et BNP au 2023-11-01 ! (cas du \"98-100 RUE MAURICE ARNOUX\", par exemple).\n",
    "\n",
    "### Indicateur \"de dynamique\"\n",
    "\n",
    "Si on ne veut pas regarder vraiment la surface disponible mais juste \"prendre le pouls\" du marché, alors il est intéressant d'utiliser deux sources différentes, même si elles ne sont pas dé-dupliquée.\n",
    "\n",
    "### Identification des bâtiments et consolidation\n",
    "\n",
    "Une approche pour la consolidation serait de se baser sur l'adresse et les éventuelles références internes (JLL et BNP). Une bonne approche pour la référence interne serait de considérer \"href\" associée.\n",
    "\n",
    "Ensuite, on pourrait faire la déduplication manuellement et la compléter lorsque de nouvelles référence apparaissent ?\n",
    "\n",
    "Evidemment, cette approche nécessiterait beaucoup plus de temps, il faut se demander si ça vaut la peine !"
   ]
  },
  {
   "cell_type": "markdown",
   "id": "77f78ba6-6228-473c-9f77-45a348ff39b4",
   "metadata": {},
   "source": [
    "# Bac à sable"
   ]
  },
  {
   "cell_type": "markdown",
   "id": "c1235cc6-d5cd-47dc-87a0-ab44c6d6fb57",
   "metadata": {},
   "source": [
    "### Explo avec Plotly (non fonctionnelle)"
   ]
  },
  {
   "cell_type": "code",
   "execution_count": null,
   "id": "42048c5a-39fc-4093-abcc-b692e0b0f3ca",
   "metadata": {},
   "outputs": [],
   "source": [
    "dict()[0]"
   ]
  },
  {
   "cell_type": "code",
   "execution_count": null,
   "id": "f2c92726-a71d-4ff8-a826-069e89193e35",
   "metadata": {},
   "outputs": [],
   "source": [
    "import chart_studio.plotly as py\n",
    "import plotly.graph_objects as go"
   ]
  },
  {
   "cell_type": "code",
   "execution_count": null,
   "id": "af4595f2-fcce-4fc5-a178-e0513db7d5f3",
   "metadata": {},
   "outputs": [],
   "source": [
    "bnp_aux = aux.loc[\"BNP\"]\n",
    "jll_aux = aux.loc[\"JLL\"]"
   ]
  },
  {
   "cell_type": "code",
   "execution_count": null,
   "id": "1f660dde-46f6-4fc5-a70a-c032bb860b43",
   "metadata": {},
   "outputs": [],
   "source": [
    "\n",
    "trace_bnp = go.Bar(x=bnp_aux.index,\n",
    "                   y=bnp_aux.surface_m2)"
   ]
  },
  {
   "cell_type": "code",
   "execution_count": null,
   "id": "eebfa906-efb5-497f-a9d4-9c8aae1c0b2a",
   "metadata": {},
   "outputs": [],
   "source": [
    "\n",
    "trace_jll = go.Bar(x=jll_aux.index,\n",
    "                   y=jll_aux.surface_m2)"
   ]
  },
  {
   "cell_type": "code",
   "execution_count": null,
   "id": "29905bcd-dc63-44a2-bfb4-1a7aeedf415c",
   "metadata": {},
   "outputs": [],
   "source": [
    "data = [trace_bnp, trace_jll]\n",
    "\n",
    "\n",
    "layout = go.Layout(title=\"Evolution de la surface présentée par source\",\n",
    "                xaxis=dict(title='Date'),\n",
    "                yaxis=dict(title='Surface disponible'))\n",
    "\n",
    "fig = go.Figure(data=data, layout=layout)\n",
    "\n",
    "py.iplot(fig, filename='jupyter-styled_bar')"
   ]
  },
  {
   "cell_type": "markdown",
   "id": "51730798-c324-4f53-af9d-75e375220a5a",
   "metadata": {},
   "source": [
    "### Autre bac à sable"
   ]
  },
  {
   "cell_type": "code",
   "execution_count": null,
   "id": "2881c156-a7f8-4ee1-8a35-d6e0f16ef5bd",
   "metadata": {},
   "outputs": [],
   "source": [
    "import json\n",
    "from bs4 import BeautifulSoup\n",
    "import requests\n",
    "\n",
    "from typing import List, Tuple, Optional\n",
    "\n",
    "from commons import RentalItem"
   ]
  },
  {
   "cell_type": "code",
   "execution_count": null,
   "id": "0d3395dc-1dce-424a-a085-9491a0b58048",
   "metadata": {},
   "outputs": [],
   "source": [
    "url=\"https://immobilier.jll.fr/search?tenureType=rent&propertyType=office&city=MONTROUGE&postcode=92120\"\n",
    "\n",
    "page = requests.get(url)\n",
    "soup = BeautifulSoup(page.content, 'html.parser')\n",
    "\n",
    "raw_items = list(soup.find_all(\n",
    "            \"div\", {\"class\": \"SRPPropertyCard SRPPropertyCard--default col-sm-6\"}))"
   ]
  },
  {
   "cell_type": "code",
   "execution_count": null,
   "id": "e766b2e8-c49b-4517-ae62-5d910e6eb178",
   "metadata": {},
   "outputs": [],
   "source": [
    "aux = raw_items[0]"
   ]
  },
  {
   "cell_type": "code",
   "execution_count": null,
   "id": "b2bf26ae-d736-48e7-b79c-d2917f0a3d04",
   "metadata": {},
   "outputs": [],
   "source": [
    "aux"
   ]
  },
  {
   "cell_type": "code",
   "execution_count": null,
   "id": "9875fd0a-52dc-4b6e-a6b8-5a441b0ed2ae",
   "metadata": {},
   "outputs": [],
   "source": [
    "aux.find(\"a\", href=True).get(\"href\")"
   ]
  },
  {
   "cell_type": "code",
   "execution_count": null,
   "id": "52fac973-15fd-4ec0-b007-114d6d27c05a",
   "metadata": {
    "tags": []
   },
   "outputs": [],
   "source": [
    "aux"
   ]
  },
  {
   "cell_type": "code",
   "execution_count": null,
   "id": "bb2d822f-ef45-42a7-a660-4369a4d41d98",
   "metadata": {},
   "outputs": [],
   "source": [
    "aux.attrs.get(\"href\")"
   ]
  },
  {
   "cell_type": "markdown",
   "id": "287a6d93-94f2-43f3-ba42-dec3d60be15f",
   "metadata": {},
   "source": [
    "## Problème sur JLL"
   ]
  },
  {
   "cell_type": "code",
   "execution_count": null,
   "id": "387b7351-723d-425f-afd2-0eb7635a512e",
   "metadata": {},
   "outputs": [],
   "source": [
    "from bs4 import BeautifulSoup\n",
    "import requests\n",
    "\n",
    "from typing import List, Tuple, Optional\n",
    "\n",
    "from commons import RentalItem"
   ]
  },
  {
   "cell_type": "code",
   "execution_count": null,
   "id": "f86a7ee9-ec38-4bd5-8d22-9117bb37bb7d",
   "metadata": {},
   "outputs": [],
   "source": [
    "url =  \"https://immobilier.jll.fr/search?tenureType=rent&propertyType=office&city=MONTROUGE&postcode=92120\""
   ]
  },
  {
   "cell_type": "code",
   "execution_count": null,
   "id": "6021b092-a64b-4b19-a9bc-923c2e491695",
   "metadata": {},
   "outputs": [],
   "source": [
    "import cloudscraper\n",
    "\n",
    "scraper = cloudscraper.create_scraper()"
   ]
  },
  {
   "cell_type": "code",
   "execution_count": null,
   "id": "f78ee95c-e89e-43c5-8634-34784979bdab",
   "metadata": {},
   "outputs": [],
   "source": [
    "#headers = {'User-Agent': 'Mozilla/5.0 (Macintosh; Intel Mac OS X 10.15; rv:101.0) Gecko/20100101 Firefox/101.0'}\n",
    "page = scraper.get(url)\n",
    "soup = BeautifulSoup(page.content, 'html.parser')"
   ]
  },
  {
   "cell_type": "code",
   "execution_count": null,
   "id": "38371366-2714-48fa-9ea6-dfee89804d58",
   "metadata": {},
   "outputs": [],
   "source": [
    "from jll_parser import get_nbr_items"
   ]
  },
  {
   "cell_type": "code",
   "execution_count": null,
   "id": "b552be52-1e22-49d4-8c17-7dc2e922a5fe",
   "metadata": {},
   "outputs": [],
   "source": [
    "get_nbr_items(soup)"
   ]
  },
  {
   "cell_type": "code",
   "execution_count": null,
   "id": "b2b8808a-a3bd-43e1-91be-b6c94b8b135f",
   "metadata": {},
   "outputs": [],
   "source": [
    "from jll_parser import get_rental_items"
   ]
  },
  {
   "cell_type": "code",
   "execution_count": null,
   "id": "65654d60-bcd9-42e7-b2f4-4b9a9f5654e6",
   "metadata": {
    "tags": []
   },
   "outputs": [],
   "source": [
    "rental_items = get_rental_items(soup)"
   ]
  },
  {
   "cell_type": "code",
   "execution_count": null,
   "id": "52179db6-2e2e-48df-b36f-3909e5fb1ce9",
   "metadata": {},
   "outputs": [],
   "source": [
    "rental_items"
   ]
  },
  {
   "cell_type": "code",
   "execution_count": null,
   "id": "da331df4-5a62-451c-ab83-ada53e3967ad",
   "metadata": {},
   "outputs": [],
   "source": [
    "from lxml import html"
   ]
  },
  {
   "cell_type": "code",
   "execution_count": null,
   "id": "4e5c2515-cb43-4b00-8682-86c8cb360bd3",
   "metadata": {},
   "outputs": [],
   "source": [
    "with open(r'D:\\Ecologie - EELV\\data\\surface_bureaux\\Resultats JLL France_2023-11-18.htm','r') as f:\n",
    "    bla = html.fromstring(f.read())"
   ]
  },
  {
   "cell_type": "code",
   "execution_count": null,
   "id": "51b06843-16a5-4da9-988f-644681f118dd",
   "metadata": {},
   "outputs": [],
   "source": [
    "with open(r'D:\\Ecologie - EELV\\data\\surface_bureaux\\Resultats JLL France_2023-11-18.htm','r') as f:\n",
    "    soup = BeautifulSoup(f, 'html.parser')"
   ]
  },
  {
   "cell_type": "code",
   "execution_count": null,
   "id": "7e7184c7-1d2c-4f94-b9f4-352286142b18",
   "metadata": {},
   "outputs": [],
   "source": [
    "soup.find_all(\"h3\", class_=\"SRPOffersSearchSummary\")"
   ]
  },
  {
   "cell_type": "code",
   "execution_count": null,
   "id": "43038b84-2b9e-4e4d-b2a1-34db48752e77",
   "metadata": {},
   "outputs": [],
   "source": [
    "headers = {\n",
    "    'User-Agent': 'Mozilla/5.0 (Windows NT 10.0; Win64; x64; rv:109.0) Gecko/20100101 Firefox/119.0',\n",
    "    'Accept': 'text/html,application/xhtml+xml,application/xml;q=0.9,image/avif,image/webp,*/*;q=0.8',\n",
    "    'Accept-Language': 'fr,fr-FR;q=0.8,en-US;q=0.5,en;q=0.3',\n",
    "    'Accept-Encoding': 'gzip, deflate, br',\n",
    "    'Connection': 'keep-alive',\n",
    "    'Cookie': 'OptanonConsent=isGpcEnabled=0&datestamp=Sat+Nov+18+2023+10%3A44%3A47+GMT%2B0100+(heure+normale+d%E2%80%99Europe+centrale)&version=202212.1.0&isIABGlobal=false&hosts=&consentId=e0927f4b-fa23-4eef-9ae7-28a9593cf2e5&interactionCount=1&landingPath=NotLandingPage&groups=C0001%3A1%2CC0004%3A0%2CC0003%3A0%2CC0002%3A0&geolocation=FR%3BIDF&AwaitingReconsent=false; __fs_dncs_trackingid_jllfrance=95038d2d-eedd-4fc2-b0cb-1f8264ffa1a8; __fs_dncs_exttrack=1; OptanonAlertBoxClosed=2023-10-28T16:23:59.024Z; ARRAffinity=b3ab359c4ca6aa3ecdd6e61996ab677eba545d81029a2f999191c2aecff3687a; ARRAffinitySameSite=b3ab359c4ca6aa3ecdd6e61996ab677eba545d81029a2f999191c2aecff3687a; SEMItem=LandingPage%3Dhttps%253A%252F%252Fimmobilier.jll.fr%252Fsearch%253FtenureType%253Drent%2526propertyType%253Doffice%2526city%253DMONTROUGE%2526postcode%253D92120%26ReferralString%3D%26ReferralOrigin%3DDirect%20-%20v3%26Language%3Dfr%26gclid%3D%26UtmCampaign%3D%26UtmSource%3D%26UtmMedium%3D%26UtmContent%3D%26UtmTerm%3D; RT=\"z=1&dm=jll.fr&si=tucojz5w2v&ss=lp3v4lma&sl=0&tt=0\"',\n",
    "    'Upgrade-Insecure-Requests': '1',\n",
    "    'Sec-Fetch-Dest': 'document',\n",
    "    'Sec-Fetch-Mode': 'navigate',\n",
    "    'Sec-Fetch-Site': 'cross-site',\n",
    "    'TE': 'trailers',\n",
    "    'referrer': 'https://google.fr',\n",
    "}"
   ]
  },
  {
   "cell_type": "code",
   "execution_count": null,
   "id": "18ca888f-c1f5-4996-94f5-c22e795a5e7d",
   "metadata": {},
   "outputs": [],
   "source": [
    "page = scraper.get(url, headers=headers)\n",
    "soup = BeautifulSoup(page.content, 'html.parser')"
   ]
  },
  {
   "cell_type": "code",
   "execution_count": null,
   "id": "4742e0b4-704d-401f-aed6-81b13ae2b54c",
   "metadata": {
    "tags": []
   },
   "outputs": [],
   "source": [
    "rental_items = get_rental_items(soup)"
   ]
  },
  {
   "cell_type": "code",
   "execution_count": null,
   "id": "7222be69-41c6-4fb9-a79b-7c09d7c513e9",
   "metadata": {
    "tags": []
   },
   "outputs": [],
   "source": [
    "rental_items"
   ]
  },
  {
   "cell_type": "code",
   "execution_count": null,
   "id": "8b710e0a-6114-4c62-9ab6-a38efec2094a",
   "metadata": {},
   "outputs": [],
   "source": [
    "len(rental_items)"
   ]
  },
  {
   "cell_type": "code",
   "execution_count": null,
   "id": "17adf331-9703-4b01-9208-87b0223d3189",
   "metadata": {},
   "outputs": [],
   "source": [
    "from jll_parser import parser"
   ]
  },
  {
   "cell_type": "code",
   "execution_count": null,
   "id": "2c1bea54-df49-4a43-83cf-d33af97d48d7",
   "metadata": {},
   "outputs": [],
   "source": [
    "bla = parser()"
   ]
  },
  {
   "cell_type": "code",
   "execution_count": null,
   "id": "8e567a67-0e6c-4649-b53c-f5311834d677",
   "metadata": {},
   "outputs": [],
   "source": [
    "import pandas as pd\n",
    "import datetime as dt"
   ]
  },
  {
   "cell_type": "code",
   "execution_count": null,
   "id": "067ad887-8def-44d8-b306-c9436f39ead4",
   "metadata": {},
   "outputs": [],
   "source": [
    "list_items = rental_items\n",
    "\n",
    "aux_df = pd.DataFrame.from_records([item.__dict__ for item in list_items])\n",
    "aux_df[\"date\"] = today_dt = dt.date.today()\n",
    "aux_df[\"source\"] = \"BNP\""
   ]
  },
  {
   "cell_type": "code",
   "execution_count": null,
   "id": "7f479ff3-452c-4410-bfd2-0060c65f14c4",
   "metadata": {},
   "outputs": [],
   "source": [
    "from explo_scraping import save_data"
   ]
  },
  {
   "cell_type": "code",
   "execution_count": null,
   "id": "c63ad4cc-7756-40df-bcf5-1a8fea508ad8",
   "metadata": {},
   "outputs": [],
   "source": [
    "save_data(aux_df)"
   ]
  },
  {
   "cell_type": "code",
   "execution_count": null,
   "id": "03bab1b7-ad8d-443e-9b94-2e873c491d6c",
   "metadata": {},
   "outputs": [],
   "source": [
    "from bnp_re_parser import parser as bnp_parser"
   ]
  },
  {
   "cell_type": "code",
   "execution_count": null,
   "id": "35a72a72-5482-45a0-aa5e-7dc3244f3f8c",
   "metadata": {},
   "outputs": [],
   "source": [
    "nbr_items, rental_items = bnp_parser()"
   ]
  },
  {
   "cell_type": "code",
   "execution_count": null,
   "id": "99062e83-69de-49c5-be58-bead3817750b",
   "metadata": {},
   "outputs": [],
   "source": [
    "nbr_items"
   ]
  },
  {
   "cell_type": "code",
   "execution_count": null,
   "id": "7f742341-7039-468b-8ccb-8808cce7d9ec",
   "metadata": {},
   "outputs": [],
   "source": [
    "len(rental_items)"
   ]
  },
  {
   "cell_type": "markdown",
   "id": "ca7e74dc-a83f-4164-9db4-872a74e7f1d1",
   "metadata": {},
   "source": [
    "## Explo Selenium"
   ]
  },
  {
   "cell_type": "code",
   "execution_count": null,
   "id": "aec2569c-5781-497d-9587-27bd1d622fd1",
   "metadata": {},
   "outputs": [],
   "source": [
    "from selenium import webdriver\n",
    "from selenium.webdriver.firefox.options import Options"
   ]
  },
  {
   "cell_type": "code",
   "execution_count": null,
   "id": "d59a04d8-54a2-4dd3-bb73-ad4e3950247e",
   "metadata": {},
   "outputs": [],
   "source": [
    "options = Options()\n",
    "options.add_argument(\"--headless\")"
   ]
  },
  {
   "cell_type": "code",
   "execution_count": null,
   "id": "0bc1fcdd-d815-499d-aa48-9ec8861199ac",
   "metadata": {},
   "outputs": [],
   "source": [
    "driver = webdriver.Firefox(options=options)\n",
    "bla = driver.get(\"https://immobilier.jll.fr/search?tenureType=rent&propertyType=office&city=MONTROUGE&postcode=92120\")"
   ]
  },
  {
   "cell_type": "code",
   "execution_count": null,
   "id": "c3e368ee-098b-44bd-8818-3c8a08feda87",
   "metadata": {},
   "outputs": [],
   "source": [
    "html_source = driver.page_source"
   ]
  },
  {
   "cell_type": "code",
   "execution_count": null,
   "id": "676dda25-bde5-4b07-b34f-677e537e975a",
   "metadata": {},
   "outputs": [],
   "source": [
    "from bs4 import BeautifulSoup"
   ]
  },
  {
   "cell_type": "code",
   "execution_count": null,
   "id": "453d0288-44c4-459d-8ca3-0e438274593d",
   "metadata": {},
   "outputs": [],
   "source": [
    "soup = BeautifulSoup(html_source, 'html.parser')"
   ]
  },
  {
   "cell_type": "code",
   "execution_count": null,
   "id": "335be519-de3b-432b-91f0-3903bbd90366",
   "metadata": {},
   "outputs": [],
   "source": [
    "from jll_parser import full_parser"
   ]
  },
  {
   "cell_type": "code",
   "execution_count": null,
   "id": "6bb58c64-0311-4206-92e4-34fd52c39920",
   "metadata": {},
   "outputs": [],
   "source": [
    "bla = full_parser()"
   ]
  },
  {
   "cell_type": "code",
   "execution_count": null,
   "id": "1d2e5fae-da9d-4737-acd9-cfd937964606",
   "metadata": {},
   "outputs": [],
   "source": [
    "from jll_parser import get_page_content"
   ]
  },
  {
   "cell_type": "code",
   "execution_count": null,
   "id": "36cabbcb-8e5a-4179-8e74-9c9698362695",
   "metadata": {},
   "outputs": [],
   "source": [
    "yo = get_page_content()"
   ]
  },
  {
   "cell_type": "code",
   "execution_count": null,
   "id": "b8baa135-bc11-4ee4-81ba-1924642cdf59",
   "metadata": {},
   "outputs": [],
   "source": [
    "from jll_parser import parser"
   ]
  },
  {
   "cell_type": "code",
   "execution_count": null,
   "id": "a40c2faf-59ed-4fc4-9625-3a1e1d003f2c",
   "metadata": {},
   "outputs": [],
   "source": [
    "output = parser(yo)"
   ]
  },
  {
   "cell_type": "code",
   "execution_count": null,
   "id": "37837abc-c005-4500-a243-3f689497a4da",
   "metadata": {},
   "outputs": [],
   "source": [
    "len(output[1])"
   ]
  },
  {
   "cell_type": "code",
   "execution_count": null,
   "id": "a3392d0f-f9b6-4e8d-9c9b-8faf286167ed",
   "metadata": {},
   "outputs": [],
   "source": []
  }
 ],
 "metadata": {
  "kernelspec": {
   "display_name": "Python 3 (ipykernel)",
   "language": "python",
   "name": "python3"
  },
  "language_info": {
   "codemirror_mode": {
    "name": "ipython",
    "version": 3
   },
   "file_extension": ".py",
   "mimetype": "text/x-python",
   "name": "python",
   "nbconvert_exporter": "python",
   "pygments_lexer": "ipython3",
   "version": "3.8.18"
  }
 },
 "nbformat": 4,
 "nbformat_minor": 5
}
