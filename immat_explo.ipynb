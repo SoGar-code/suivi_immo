{
 "cells": [
  {
   "cell_type": "markdown",
   "id": "03f4576a-db17-427f-996c-a4fe43b46e10",
   "metadata": {},
   "source": [
    "# Exploration immatriculations"
   ]
  },
  {
   "cell_type": "code",
   "execution_count": 1,
   "id": "74e61190-dc92-4dc2-b5f5-6607c1ed09a7",
   "metadata": {},
   "outputs": [],
   "source": [
    "%load_ext autoreload\n",
    "%autoreload 2"
   ]
  },
  {
   "cell_type": "code",
   "execution_count": 5,
   "id": "dd672fff-131f-44fe-9d9b-60ab1aef66fb",
   "metadata": {},
   "outputs": [],
   "source": [
    "from pathlib import Path\n",
    "\n",
    "import pandas as pd"
   ]
  },
  {
   "cell_type": "code",
   "execution_count": 3,
   "id": "e3a026c5-4ec4-4c93-8cc0-a3f2b3a56b6c",
   "metadata": {},
   "outputs": [],
   "source": [
    "DATA_DIR = Path(\"../data/immat/\")"
   ]
  },
  {
   "cell_type": "code",
   "execution_count": 4,
   "id": "71cd90b6-773e-41d1-9159-098a703efd57",
   "metadata": {},
   "outputs": [],
   "source": [
    "vp_input = DATA_DIR/\"VP.xlsx\""
   ]
  },
  {
   "cell_type": "code",
   "execution_count": 18,
   "id": "7887ecdd-7413-43c6-a579-58421faa2447",
   "metadata": {},
   "outputs": [],
   "source": [
    "xl = pd.ExcelFile(vp_input)"
   ]
  },
  {
   "cell_type": "code",
   "execution_count": 21,
   "id": "3ff0749f-1da7-4aff-9199-4a3255378d95",
   "metadata": {},
   "outputs": [
    {
     "data": {
      "text/plain": [
       "['neuf_annuel',\n",
       " 'occasion_annuel',\n",
       " 'neuf_annuel_statut',\n",
       " 'occasion_annuel_statut']"
      ]
     },
     "execution_count": 21,
     "metadata": {},
     "output_type": "execute_result"
    }
   ],
   "source": [
    "xl.sheet_names"
   ]
  },
  {
   "cell_type": "markdown",
   "id": "b1f82dc4-e5f7-4f7b-97f2-d43593dfe689",
   "metadata": {},
   "source": [
    "## Statut : particulier ou professionnel"
   ]
  },
  {
   "cell_type": "code",
   "execution_count": 22,
   "id": "4c8f8fbe-6b11-42e6-9433-83deaa2fad76",
   "metadata": {},
   "outputs": [],
   "source": [
    "bla = xl.parse(sheet_name=\"neuf_annuel_statut\", nrows=500)"
   ]
  },
  {
   "cell_type": "code",
   "execution_count": 23,
   "id": "c80d0fc3-f856-4b9a-aada-45c8b7a4a305",
   "metadata": {},
   "outputs": [
    {
     "data": {
      "text/html": [
       "<div>\n",
       "<style scoped>\n",
       "    .dataframe tbody tr th:only-of-type {\n",
       "        vertical-align: middle;\n",
       "    }\n",
       "\n",
       "    .dataframe tbody tr th {\n",
       "        vertical-align: top;\n",
       "    }\n",
       "\n",
       "    .dataframe thead th {\n",
       "        text-align: right;\n",
       "    }\n",
       "</style>\n",
       "<table border=\"1\" class=\"dataframe\">\n",
       "  <thead>\n",
       "    <tr style=\"text-align: right;\">\n",
       "      <th></th>\n",
       "      <th>Libellé de la commune</th>\n",
       "      <th>Code Commune Insee</th>\n",
       "      <th>Statut de l'utilisateur</th>\n",
       "      <th>Motorisation</th>\n",
       "      <th>Nombre d'immatriculations en 2022</th>\n",
       "    </tr>\n",
       "  </thead>\n",
       "  <tbody>\n",
       "    <tr>\n",
       "      <th>0</th>\n",
       "      <td>L'Abergement-Clémenciat</td>\n",
       "      <td>1001</td>\n",
       "      <td>Particulier</td>\n",
       "      <td>Diesel - hybride NR</td>\n",
       "      <td>1</td>\n",
       "    </tr>\n",
       "    <tr>\n",
       "      <th>1</th>\n",
       "      <td>L'Abergement-Clémenciat</td>\n",
       "      <td>1001</td>\n",
       "      <td>Particulier</td>\n",
       "      <td>Electrique et hydrogène</td>\n",
       "      <td>1</td>\n",
       "    </tr>\n",
       "    <tr>\n",
       "      <th>2</th>\n",
       "      <td>L'Abergement-Clémenciat</td>\n",
       "      <td>1001</td>\n",
       "      <td>Particulier</td>\n",
       "      <td>Essence - hybride NR</td>\n",
       "      <td>1</td>\n",
       "    </tr>\n",
       "    <tr>\n",
       "      <th>3</th>\n",
       "      <td>L'Abergement-Clémenciat</td>\n",
       "      <td>1001</td>\n",
       "      <td>Particulier</td>\n",
       "      <td>Essence - thermique</td>\n",
       "      <td>5</td>\n",
       "    </tr>\n",
       "    <tr>\n",
       "      <th>4</th>\n",
       "      <td>L'Abergement-Clémenciat</td>\n",
       "      <td>1001</td>\n",
       "      <td>Particulier</td>\n",
       "      <td>Gaz et ND</td>\n",
       "      <td>1</td>\n",
       "    </tr>\n",
       "    <tr>\n",
       "      <th>...</th>\n",
       "      <td>...</td>\n",
       "      <td>...</td>\n",
       "      <td>...</td>\n",
       "      <td>...</td>\n",
       "      <td>...</td>\n",
       "    </tr>\n",
       "    <tr>\n",
       "      <th>495</th>\n",
       "      <td>Château-Gaillard</td>\n",
       "      <td>1089</td>\n",
       "      <td>Particulier</td>\n",
       "      <td>Essence - thermique</td>\n",
       "      <td>10</td>\n",
       "    </tr>\n",
       "    <tr>\n",
       "      <th>496</th>\n",
       "      <td>Château-Gaillard</td>\n",
       "      <td>1089</td>\n",
       "      <td>Particulier</td>\n",
       "      <td>Gaz et ND</td>\n",
       "      <td>3</td>\n",
       "    </tr>\n",
       "    <tr>\n",
       "      <th>497</th>\n",
       "      <td>Châtenay</td>\n",
       "      <td>1090</td>\n",
       "      <td>Professionnel</td>\n",
       "      <td>Diesel - thermique</td>\n",
       "      <td>1</td>\n",
       "    </tr>\n",
       "    <tr>\n",
       "      <th>498</th>\n",
       "      <td>Châtenay</td>\n",
       "      <td>1090</td>\n",
       "      <td>Particulier</td>\n",
       "      <td>Diesel - thermique</td>\n",
       "      <td>1</td>\n",
       "    </tr>\n",
       "    <tr>\n",
       "      <th>499</th>\n",
       "      <td>Châtenay</td>\n",
       "      <td>1090</td>\n",
       "      <td>Particulier</td>\n",
       "      <td>Electrique et hydrogène</td>\n",
       "      <td>4</td>\n",
       "    </tr>\n",
       "  </tbody>\n",
       "</table>\n",
       "<p>500 rows × 5 columns</p>\n",
       "</div>"
      ],
      "text/plain": [
       "       Libellé de la commune  Code Commune Insee Statut de l'utilisateur  \\\n",
       "0    L'Abergement-Clémenciat                1001             Particulier   \n",
       "1    L'Abergement-Clémenciat                1001             Particulier   \n",
       "2    L'Abergement-Clémenciat                1001             Particulier   \n",
       "3    L'Abergement-Clémenciat                1001             Particulier   \n",
       "4    L'Abergement-Clémenciat                1001             Particulier   \n",
       "..                       ...                 ...                     ...   \n",
       "495         Château-Gaillard                1089             Particulier   \n",
       "496         Château-Gaillard                1089             Particulier   \n",
       "497                 Châtenay                1090           Professionnel   \n",
       "498                 Châtenay                1090             Particulier   \n",
       "499                 Châtenay                1090             Particulier   \n",
       "\n",
       "                Motorisation  Nombre d'immatriculations en 2022  \n",
       "0        Diesel - hybride NR                                  1  \n",
       "1    Electrique et hydrogène                                  1  \n",
       "2       Essence - hybride NR                                  1  \n",
       "3        Essence - thermique                                  5  \n",
       "4                  Gaz et ND                                  1  \n",
       "..                       ...                                ...  \n",
       "495      Essence - thermique                                 10  \n",
       "496                Gaz et ND                                  3  \n",
       "497       Diesel - thermique                                  1  \n",
       "498       Diesel - thermique                                  1  \n",
       "499  Electrique et hydrogène                                  4  \n",
       "\n",
       "[500 rows x 5 columns]"
      ]
     },
     "execution_count": 23,
     "metadata": {},
     "output_type": "execute_result"
    }
   ],
   "source": [
    "bla"
   ]
  },
  {
   "cell_type": "code",
   "execution_count": 25,
   "id": "1c549031-51fe-433c-976c-9f15d3efa609",
   "metadata": {},
   "outputs": [
    {
     "data": {
      "text/plain": [
       "array(['Particulier', 'Professionnel'], dtype=object)"
      ]
     },
     "execution_count": 25,
     "metadata": {},
     "output_type": "execute_result"
    }
   ],
   "source": [
    "bla[\"Statut de l'utilisateur\"].unique()"
   ]
  },
  {
   "cell_type": "markdown",
   "id": "6388b3f5-0ce0-4f3a-af25-ddbf2d27eb49",
   "metadata": {},
   "source": [
    "## Ventes neuves"
   ]
  },
  {
   "cell_type": "code",
   "execution_count": 29,
   "id": "b9ef4bc3-8638-4734-bdda-014760f07cfb",
   "metadata": {},
   "outputs": [],
   "source": [
    "df_neuf = xl.parse(sheet_name=\"neuf_annuel\", header=3)"
   ]
  },
  {
   "cell_type": "code",
   "execution_count": 37,
   "id": "1da9c2b2-b259-4dff-b5f2-b7914a4a6144",
   "metadata": {},
   "outputs": [],
   "source": [
    "immat_neuves_montrouge = df_neuf[df_neuf[\"code commune\"]=='92049']"
   ]
  },
  {
   "cell_type": "code",
   "execution_count": 43,
   "id": "6a91ffb1-2fe5-40ff-b0a6-dc39321dc0d5",
   "metadata": {},
   "outputs": [
    {
     "data": {
      "text/plain": [
       "192439        Diesel - hybride NR\n",
       "192440         Diesel - thermique\n",
       "192441    Electrique et hydrogène\n",
       "192442       Essence - hybride NR\n",
       "192443        Essence - thermique\n",
       "192444                  Gaz et ND\n",
       "192445       Hybride rechargeable\n",
       "Name: énergie, dtype: object"
      ]
     },
     "execution_count": 43,
     "metadata": {},
     "output_type": "execute_result"
    }
   ],
   "source": [
    "immat_neuves_montrouge[\"énergie\"]"
   ]
  },
  {
   "cell_type": "code",
   "execution_count": 41,
   "id": "94e18674-73ca-413d-83ff-bb0c5e440e50",
   "metadata": {},
   "outputs": [
    {
     "data": {
      "text/plain": [
       "<AxesSubplot:>"
      ]
     },
     "execution_count": 41,
     "metadata": {},
     "output_type": "execute_result"
    },
    {
     "data": {
      "image/png": "[encoded data removed]",
      "text/plain": [
       "<Figure size 640x480 with 1 Axes>"
      ]
     },
     "metadata": {},
     "output_type": "display_data"
    }
   ],
   "source": [
    "immat_neuves_montrouge[[j for j in range(2010, 2023)]].plot.bar()"
   ]
  }
 ],
 "metadata": {
  "kernelspec": {
   "display_name": "Python 3 (ipykernel)",
   "language": "python",
   "name": "python3"
  },
  "language_info": {
   "codemirror_mode": {
    "name": "ipython",
    "version": 3
   },
   "file_extension": ".py",
   "mimetype": "text/x-python",
   "name": "python",
   "nbconvert_exporter": "python",
   "pygments_lexer": "ipython3",
   "version": "3.11.9"
  }
 },
 "nbformat": 4,
 "nbformat_minor": 5
}
